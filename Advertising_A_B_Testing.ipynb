{
  "nbformat": 4,
  "nbformat_minor": 0,
  "metadata": {
    "colab": {
      "name": "Advertising A/B Testing ",
      "provenance": [],
      "toc_visible": true,
      "authorship_tag": "ABX9TyPW6im57serc2To6+xD1igI",
      "include_colab_link": true
    },
    "kernelspec": {
      "name": "python3",
      "display_name": "Python 3"
    },
    "language_info": {
      "name": "python"
    }
  },
  "cells": [
    {
      "cell_type": "markdown",
      "metadata": {
        "id": "view-in-github",
        "colab_type": "text"
      },
      "source": [
        "<a href=\"https://colab.research.google.com/github/wahyunh10/Advertising-AB-Testing/blob/main/Advertising_A_B_Testing.ipynb\" target=\"_parent\"><img src=\"https://colab.research.google.com/assets/colab-badge.svg\" alt=\"Open In Colab\"/></a>"
      ]
    },
    {
      "cell_type": "markdown",
      "source": [
        "# **Advertising A/B Testing**"
      ],
      "metadata": {
        "id": "rFMcMokUg7IW"
      }
    },
    {
      "cell_type": "markdown",
      "source": [
        "The dataset where you can find [here](https://www.kaggle.com/datasets/osuolaleemmanuel/ad-ab-testing) is about advertising agency want to test whether show different type of ad will affecting respond rate of questionnaire that is shared. A/B testing is undertaken to facilitating this. Where a hypothesis is tested and bring a result. You can also found some exploratory data analysis here including seeing trends that happened"
      ],
      "metadata": {
        "id": "ZkbqZ4YZg_iK"
      }
    },
    {
      "cell_type": "markdown",
      "source": [
        "**Data Preprocessing**\n",
        "\n",
        "Import the csv file as panda DataFrames and examine it."
      ],
      "metadata": {
        "id": "SSSVMEGVhZuE"
      }
    },
    {
      "cell_type": "code",
      "execution_count": null,
      "metadata": {
        "id": "Tzqkj1o8YNLi"
      },
      "outputs": [],
      "source": [
        "#Import libraries\n",
        "import pandas as pd\n",
        "import numpy as np\n",
        "import matplotlib.pyplot as plt\n",
        "import seaborn as sns\n",
        "import statsmodels.stats.api as sms\n",
        "import scipy.stats\n",
        "from math import ceil"
      ]
    },
    {
      "cell_type": "markdown",
      "source": [
        "A company want to test whether show a creative and interactive ad will increase the amount of questionnaire respond rate that they received"
      ],
      "metadata": {
        "id": "0RQFovijhrUP"
      }
    },
    {
      "cell_type": "code",
      "source": [
        "#Import the excel file and examine it\n",
        "df = pd.read_csv('AdSmartABdata - AdSmartABdata.csv')\n",
        "df.head()"
      ],
      "metadata": {
        "colab": {
          "base_uri": "https://localhost:8080/",
          "height": 337
        },
        "id": "p_R-97UwhsIP",
        "outputId": "f83283be-42bb-4e23-a48b-d1ba3b291f39"
      },
      "execution_count": null,
      "outputs": [
        {
          "output_type": "execute_result",
          "data": {
            "text/plain": [
              "                             auction_id experiment        date  hour  \\\n",
              "0  0008ef63-77a7-448b-bd1e-075f42c55e39    exposed  2020-07-10     8   \n",
              "1  000eabc5-17ce-4137-8efe-44734d914446    exposed  2020-07-07    10   \n",
              "2  0016d14a-ae18-4a02-a204-6ba53b52f2ed    exposed  2020-07-05     2   \n",
              "3  00187412-2932-4542-a8ef-3633901c98d9    control  2020-07-03    15   \n",
              "4  001a7785-d3fe-4e11-a344-c8735acacc2c    control  2020-07-03    15   \n",
              "\n",
              "          device_make  platform_os                browser  yes  no  \n",
              "0  Generic Smartphone            6          Chrome Mobile    0   0  \n",
              "1  Generic Smartphone            6          Chrome Mobile    0   0  \n",
              "2               E5823            6  Chrome Mobile WebView    0   1  \n",
              "3   Samsung SM-A705FN            6               Facebook    0   0  \n",
              "4  Generic Smartphone            6          Chrome Mobile    0   0  "
            ],
            "text/html": [
              "\n",
              "  <div id=\"df-cb6a7319-99b8-46eb-9e23-a7a2c45c86e3\">\n",
              "    <div class=\"colab-df-container\">\n",
              "      <div>\n",
              "<style scoped>\n",
              "    .dataframe tbody tr th:only-of-type {\n",
              "        vertical-align: middle;\n",
              "    }\n",
              "\n",
              "    .dataframe tbody tr th {\n",
              "        vertical-align: top;\n",
              "    }\n",
              "\n",
              "    .dataframe thead th {\n",
              "        text-align: right;\n",
              "    }\n",
              "</style>\n",
              "<table border=\"1\" class=\"dataframe\">\n",
              "  <thead>\n",
              "    <tr style=\"text-align: right;\">\n",
              "      <th></th>\n",
              "      <th>auction_id</th>\n",
              "      <th>experiment</th>\n",
              "      <th>date</th>\n",
              "      <th>hour</th>\n",
              "      <th>device_make</th>\n",
              "      <th>platform_os</th>\n",
              "      <th>browser</th>\n",
              "      <th>yes</th>\n",
              "      <th>no</th>\n",
              "    </tr>\n",
              "  </thead>\n",
              "  <tbody>\n",
              "    <tr>\n",
              "      <th>0</th>\n",
              "      <td>0008ef63-77a7-448b-bd1e-075f42c55e39</td>\n",
              "      <td>exposed</td>\n",
              "      <td>2020-07-10</td>\n",
              "      <td>8</td>\n",
              "      <td>Generic Smartphone</td>\n",
              "      <td>6</td>\n",
              "      <td>Chrome Mobile</td>\n",
              "      <td>0</td>\n",
              "      <td>0</td>\n",
              "    </tr>\n",
              "    <tr>\n",
              "      <th>1</th>\n",
              "      <td>000eabc5-17ce-4137-8efe-44734d914446</td>\n",
              "      <td>exposed</td>\n",
              "      <td>2020-07-07</td>\n",
              "      <td>10</td>\n",
              "      <td>Generic Smartphone</td>\n",
              "      <td>6</td>\n",
              "      <td>Chrome Mobile</td>\n",
              "      <td>0</td>\n",
              "      <td>0</td>\n",
              "    </tr>\n",
              "    <tr>\n",
              "      <th>2</th>\n",
              "      <td>0016d14a-ae18-4a02-a204-6ba53b52f2ed</td>\n",
              "      <td>exposed</td>\n",
              "      <td>2020-07-05</td>\n",
              "      <td>2</td>\n",
              "      <td>E5823</td>\n",
              "      <td>6</td>\n",
              "      <td>Chrome Mobile WebView</td>\n",
              "      <td>0</td>\n",
              "      <td>1</td>\n",
              "    </tr>\n",
              "    <tr>\n",
              "      <th>3</th>\n",
              "      <td>00187412-2932-4542-a8ef-3633901c98d9</td>\n",
              "      <td>control</td>\n",
              "      <td>2020-07-03</td>\n",
              "      <td>15</td>\n",
              "      <td>Samsung SM-A705FN</td>\n",
              "      <td>6</td>\n",
              "      <td>Facebook</td>\n",
              "      <td>0</td>\n",
              "      <td>0</td>\n",
              "    </tr>\n",
              "    <tr>\n",
              "      <th>4</th>\n",
              "      <td>001a7785-d3fe-4e11-a344-c8735acacc2c</td>\n",
              "      <td>control</td>\n",
              "      <td>2020-07-03</td>\n",
              "      <td>15</td>\n",
              "      <td>Generic Smartphone</td>\n",
              "      <td>6</td>\n",
              "      <td>Chrome Mobile</td>\n",
              "      <td>0</td>\n",
              "      <td>0</td>\n",
              "    </tr>\n",
              "  </tbody>\n",
              "</table>\n",
              "</div>\n",
              "      <button class=\"colab-df-convert\" onclick=\"convertToInteractive('df-cb6a7319-99b8-46eb-9e23-a7a2c45c86e3')\"\n",
              "              title=\"Convert this dataframe to an interactive table.\"\n",
              "              style=\"display:none;\">\n",
              "        \n",
              "  <svg xmlns=\"http://www.w3.org/2000/svg\" height=\"24px\"viewBox=\"0 0 24 24\"\n",
              "       width=\"24px\">\n",
              "    <path d=\"M0 0h24v24H0V0z\" fill=\"none\"/>\n",
              "    <path d=\"M18.56 5.44l.94 2.06.94-2.06 2.06-.94-2.06-.94-.94-2.06-.94 2.06-2.06.94zm-11 1L8.5 8.5l.94-2.06 2.06-.94-2.06-.94L8.5 2.5l-.94 2.06-2.06.94zm10 10l.94 2.06.94-2.06 2.06-.94-2.06-.94-.94-2.06-.94 2.06-2.06.94z\"/><path d=\"M17.41 7.96l-1.37-1.37c-.4-.4-.92-.59-1.43-.59-.52 0-1.04.2-1.43.59L10.3 9.45l-7.72 7.72c-.78.78-.78 2.05 0 2.83L4 21.41c.39.39.9.59 1.41.59.51 0 1.02-.2 1.41-.59l7.78-7.78 2.81-2.81c.8-.78.8-2.07 0-2.86zM5.41 20L4 18.59l7.72-7.72 1.47 1.35L5.41 20z\"/>\n",
              "  </svg>\n",
              "      </button>\n",
              "      \n",
              "  <style>\n",
              "    .colab-df-container {\n",
              "      display:flex;\n",
              "      flex-wrap:wrap;\n",
              "      gap: 12px;\n",
              "    }\n",
              "\n",
              "    .colab-df-convert {\n",
              "      background-color: #E8F0FE;\n",
              "      border: none;\n",
              "      border-radius: 50%;\n",
              "      cursor: pointer;\n",
              "      display: none;\n",
              "      fill: #1967D2;\n",
              "      height: 32px;\n",
              "      padding: 0 0 0 0;\n",
              "      width: 32px;\n",
              "    }\n",
              "\n",
              "    .colab-df-convert:hover {\n",
              "      background-color: #E2EBFA;\n",
              "      box-shadow: 0px 1px 2px rgba(60, 64, 67, 0.3), 0px 1px 3px 1px rgba(60, 64, 67, 0.15);\n",
              "      fill: #174EA6;\n",
              "    }\n",
              "\n",
              "    [theme=dark] .colab-df-convert {\n",
              "      background-color: #3B4455;\n",
              "      fill: #D2E3FC;\n",
              "    }\n",
              "\n",
              "    [theme=dark] .colab-df-convert:hover {\n",
              "      background-color: #434B5C;\n",
              "      box-shadow: 0px 1px 3px 1px rgba(0, 0, 0, 0.15);\n",
              "      filter: drop-shadow(0px 1px 2px rgba(0, 0, 0, 0.3));\n",
              "      fill: #FFFFFF;\n",
              "    }\n",
              "  </style>\n",
              "\n",
              "      <script>\n",
              "        const buttonEl =\n",
              "          document.querySelector('#df-cb6a7319-99b8-46eb-9e23-a7a2c45c86e3 button.colab-df-convert');\n",
              "        buttonEl.style.display =\n",
              "          google.colab.kernel.accessAllowed ? 'block' : 'none';\n",
              "\n",
              "        async function convertToInteractive(key) {\n",
              "          const element = document.querySelector('#df-cb6a7319-99b8-46eb-9e23-a7a2c45c86e3');\n",
              "          const dataTable =\n",
              "            await google.colab.kernel.invokeFunction('convertToInteractive',\n",
              "                                                     [key], {});\n",
              "          if (!dataTable) return;\n",
              "\n",
              "          const docLinkHtml = 'Like what you see? Visit the ' +\n",
              "            '<a target=\"_blank\" href=https://colab.research.google.com/notebooks/data_table.ipynb>data table notebook</a>'\n",
              "            + ' to learn more about interactive tables.';\n",
              "          element.innerHTML = '';\n",
              "          dataTable['output_type'] = 'display_data';\n",
              "          await google.colab.output.renderOutput(dataTable, element);\n",
              "          const docLink = document.createElement('div');\n",
              "          docLink.innerHTML = docLinkHtml;\n",
              "          element.appendChild(docLink);\n",
              "        }\n",
              "      </script>\n",
              "    </div>\n",
              "  </div>\n",
              "  "
            ]
          },
          "metadata": {},
          "execution_count": 2
        }
      ]
    },
    {
      "cell_type": "code",
      "source": [
        "df.shape"
      ],
      "metadata": {
        "colab": {
          "base_uri": "https://localhost:8080/"
        },
        "id": "zA3AGLd3iTRd",
        "outputId": "9ffccbb7-edce-4131-9480-80ea56698fb8"
      },
      "execution_count": null,
      "outputs": [
        {
          "output_type": "execute_result",
          "data": {
            "text/plain": [
              "(8077, 9)"
            ]
          },
          "metadata": {},
          "execution_count": 4
        }
      ]
    },
    {
      "cell_type": "markdown",
      "source": [
        "**Cleaning the Dataset:**\n",
        "\n",
        "Dealing with missing values, correct and create necessary date data types, and drop the duplicate."
      ],
      "metadata": {
        "id": "7ikxULVbiZuc"
      }
    },
    {
      "cell_type": "code",
      "source": [
        "#Investigate missing value\n",
        "df.isna().sum()"
      ],
      "metadata": {
        "colab": {
          "base_uri": "https://localhost:8080/"
        },
        "id": "8MAeR8pziWp3",
        "outputId": "e4dbe7d8-2a8e-45d2-f580-c64af612f4ba"
      },
      "execution_count": null,
      "outputs": [
        {
          "output_type": "execute_result",
          "data": {
            "text/plain": [
              "auction_id     0\n",
              "experiment     0\n",
              "date           0\n",
              "hour           0\n",
              "device_make    0\n",
              "platform_os    0\n",
              "browser        0\n",
              "yes            0\n",
              "no             0\n",
              "dtype: int64"
            ]
          },
          "metadata": {},
          "execution_count": 5
        }
      ]
    },
    {
      "cell_type": "code",
      "source": [
        "df.dtypes"
      ],
      "metadata": {
        "colab": {
          "base_uri": "https://localhost:8080/"
        },
        "id": "-WOGb1lDij_B",
        "outputId": "716a06c4-e36b-48ce-907a-75084dc9e506"
      },
      "execution_count": null,
      "outputs": [
        {
          "output_type": "execute_result",
          "data": {
            "text/plain": [
              "auction_id     object\n",
              "experiment     object\n",
              "date           object\n",
              "hour            int64\n",
              "device_make    object\n",
              "platform_os     int64\n",
              "browser        object\n",
              "yes             int64\n",
              "no              int64\n",
              "dtype: object"
            ]
          },
          "metadata": {},
          "execution_count": 6
        }
      ]
    },
    {
      "cell_type": "code",
      "source": [
        "df.info()"
      ],
      "metadata": {
        "colab": {
          "base_uri": "https://localhost:8080/"
        },
        "id": "nO2b15rUilEQ",
        "outputId": "f08032c7-c8d7-46d0-dce3-290e2d4068cc"
      },
      "execution_count": null,
      "outputs": [
        {
          "output_type": "stream",
          "name": "stdout",
          "text": [
            "<class 'pandas.core.frame.DataFrame'>\n",
            "RangeIndex: 8077 entries, 0 to 8076\n",
            "Data columns (total 9 columns):\n",
            " #   Column       Non-Null Count  Dtype \n",
            "---  ------       --------------  ----- \n",
            " 0   auction_id   8077 non-null   object\n",
            " 1   experiment   8077 non-null   object\n",
            " 2   date         8077 non-null   object\n",
            " 3   hour         8077 non-null   int64 \n",
            " 4   device_make  8077 non-null   object\n",
            " 5   platform_os  8077 non-null   int64 \n",
            " 6   browser      8077 non-null   object\n",
            " 7   yes          8077 non-null   int64 \n",
            " 8   no           8077 non-null   int64 \n",
            "dtypes: int64(4), object(5)\n",
            "memory usage: 568.0+ KB\n"
          ]
        }
      ]
    },
    {
      "cell_type": "code",
      "source": [
        "# change date datatype\n",
        "df['date']=pd.to_datetime(df['date'])"
      ],
      "metadata": {
        "id": "ffT099YJiuMU"
      },
      "execution_count": null,
      "outputs": []
    },
    {
      "cell_type": "code",
      "source": [
        "# check if there's any duplicate record\n",
        "df.duplicated().sum()"
      ],
      "metadata": {
        "colab": {
          "base_uri": "https://localhost:8080/"
        },
        "id": "kV2ihlI3iwlc",
        "outputId": "53642093-69b3-4d78-d0b5-06b047cdeae5"
      },
      "execution_count": null,
      "outputs": [
        {
          "output_type": "execute_result",
          "data": {
            "text/plain": [
              "0"
            ]
          },
          "metadata": {},
          "execution_count": 9
        }
      ]
    },
    {
      "cell_type": "code",
      "source": [
        "#final DataFrame\n",
        "df.head()"
      ],
      "metadata": {
        "colab": {
          "base_uri": "https://localhost:8080/",
          "height": 337
        },
        "id": "qrBpMnXXi4cu",
        "outputId": "d7b7c1f2-f50a-4bc7-ed50-ad370ad6bb99"
      },
      "execution_count": null,
      "outputs": [
        {
          "output_type": "execute_result",
          "data": {
            "text/plain": [
              "                             auction_id experiment       date  hour  \\\n",
              "0  0008ef63-77a7-448b-bd1e-075f42c55e39    exposed 2020-07-10     8   \n",
              "1  000eabc5-17ce-4137-8efe-44734d914446    exposed 2020-07-07    10   \n",
              "2  0016d14a-ae18-4a02-a204-6ba53b52f2ed    exposed 2020-07-05     2   \n",
              "3  00187412-2932-4542-a8ef-3633901c98d9    control 2020-07-03    15   \n",
              "4  001a7785-d3fe-4e11-a344-c8735acacc2c    control 2020-07-03    15   \n",
              "\n",
              "          device_make  platform_os                browser  yes  no  \n",
              "0  Generic Smartphone            6          Chrome Mobile    0   0  \n",
              "1  Generic Smartphone            6          Chrome Mobile    0   0  \n",
              "2               E5823            6  Chrome Mobile WebView    0   1  \n",
              "3   Samsung SM-A705FN            6               Facebook    0   0  \n",
              "4  Generic Smartphone            6          Chrome Mobile    0   0  "
            ],
            "text/html": [
              "\n",
              "  <div id=\"df-6b1e266e-05ce-4c97-9a4b-a472837cc580\">\n",
              "    <div class=\"colab-df-container\">\n",
              "      <div>\n",
              "<style scoped>\n",
              "    .dataframe tbody tr th:only-of-type {\n",
              "        vertical-align: middle;\n",
              "    }\n",
              "\n",
              "    .dataframe tbody tr th {\n",
              "        vertical-align: top;\n",
              "    }\n",
              "\n",
              "    .dataframe thead th {\n",
              "        text-align: right;\n",
              "    }\n",
              "</style>\n",
              "<table border=\"1\" class=\"dataframe\">\n",
              "  <thead>\n",
              "    <tr style=\"text-align: right;\">\n",
              "      <th></th>\n",
              "      <th>auction_id</th>\n",
              "      <th>experiment</th>\n",
              "      <th>date</th>\n",
              "      <th>hour</th>\n",
              "      <th>device_make</th>\n",
              "      <th>platform_os</th>\n",
              "      <th>browser</th>\n",
              "      <th>yes</th>\n",
              "      <th>no</th>\n",
              "    </tr>\n",
              "  </thead>\n",
              "  <tbody>\n",
              "    <tr>\n",
              "      <th>0</th>\n",
              "      <td>0008ef63-77a7-448b-bd1e-075f42c55e39</td>\n",
              "      <td>exposed</td>\n",
              "      <td>2020-07-10</td>\n",
              "      <td>8</td>\n",
              "      <td>Generic Smartphone</td>\n",
              "      <td>6</td>\n",
              "      <td>Chrome Mobile</td>\n",
              "      <td>0</td>\n",
              "      <td>0</td>\n",
              "    </tr>\n",
              "    <tr>\n",
              "      <th>1</th>\n",
              "      <td>000eabc5-17ce-4137-8efe-44734d914446</td>\n",
              "      <td>exposed</td>\n",
              "      <td>2020-07-07</td>\n",
              "      <td>10</td>\n",
              "      <td>Generic Smartphone</td>\n",
              "      <td>6</td>\n",
              "      <td>Chrome Mobile</td>\n",
              "      <td>0</td>\n",
              "      <td>0</td>\n",
              "    </tr>\n",
              "    <tr>\n",
              "      <th>2</th>\n",
              "      <td>0016d14a-ae18-4a02-a204-6ba53b52f2ed</td>\n",
              "      <td>exposed</td>\n",
              "      <td>2020-07-05</td>\n",
              "      <td>2</td>\n",
              "      <td>E5823</td>\n",
              "      <td>6</td>\n",
              "      <td>Chrome Mobile WebView</td>\n",
              "      <td>0</td>\n",
              "      <td>1</td>\n",
              "    </tr>\n",
              "    <tr>\n",
              "      <th>3</th>\n",
              "      <td>00187412-2932-4542-a8ef-3633901c98d9</td>\n",
              "      <td>control</td>\n",
              "      <td>2020-07-03</td>\n",
              "      <td>15</td>\n",
              "      <td>Samsung SM-A705FN</td>\n",
              "      <td>6</td>\n",
              "      <td>Facebook</td>\n",
              "      <td>0</td>\n",
              "      <td>0</td>\n",
              "    </tr>\n",
              "    <tr>\n",
              "      <th>4</th>\n",
              "      <td>001a7785-d3fe-4e11-a344-c8735acacc2c</td>\n",
              "      <td>control</td>\n",
              "      <td>2020-07-03</td>\n",
              "      <td>15</td>\n",
              "      <td>Generic Smartphone</td>\n",
              "      <td>6</td>\n",
              "      <td>Chrome Mobile</td>\n",
              "      <td>0</td>\n",
              "      <td>0</td>\n",
              "    </tr>\n",
              "  </tbody>\n",
              "</table>\n",
              "</div>\n",
              "      <button class=\"colab-df-convert\" onclick=\"convertToInteractive('df-6b1e266e-05ce-4c97-9a4b-a472837cc580')\"\n",
              "              title=\"Convert this dataframe to an interactive table.\"\n",
              "              style=\"display:none;\">\n",
              "        \n",
              "  <svg xmlns=\"http://www.w3.org/2000/svg\" height=\"24px\"viewBox=\"0 0 24 24\"\n",
              "       width=\"24px\">\n",
              "    <path d=\"M0 0h24v24H0V0z\" fill=\"none\"/>\n",
              "    <path d=\"M18.56 5.44l.94 2.06.94-2.06 2.06-.94-2.06-.94-.94-2.06-.94 2.06-2.06.94zm-11 1L8.5 8.5l.94-2.06 2.06-.94-2.06-.94L8.5 2.5l-.94 2.06-2.06.94zm10 10l.94 2.06.94-2.06 2.06-.94-2.06-.94-.94-2.06-.94 2.06-2.06.94z\"/><path d=\"M17.41 7.96l-1.37-1.37c-.4-.4-.92-.59-1.43-.59-.52 0-1.04.2-1.43.59L10.3 9.45l-7.72 7.72c-.78.78-.78 2.05 0 2.83L4 21.41c.39.39.9.59 1.41.59.51 0 1.02-.2 1.41-.59l7.78-7.78 2.81-2.81c.8-.78.8-2.07 0-2.86zM5.41 20L4 18.59l7.72-7.72 1.47 1.35L5.41 20z\"/>\n",
              "  </svg>\n",
              "      </button>\n",
              "      \n",
              "  <style>\n",
              "    .colab-df-container {\n",
              "      display:flex;\n",
              "      flex-wrap:wrap;\n",
              "      gap: 12px;\n",
              "    }\n",
              "\n",
              "    .colab-df-convert {\n",
              "      background-color: #E8F0FE;\n",
              "      border: none;\n",
              "      border-radius: 50%;\n",
              "      cursor: pointer;\n",
              "      display: none;\n",
              "      fill: #1967D2;\n",
              "      height: 32px;\n",
              "      padding: 0 0 0 0;\n",
              "      width: 32px;\n",
              "    }\n",
              "\n",
              "    .colab-df-convert:hover {\n",
              "      background-color: #E2EBFA;\n",
              "      box-shadow: 0px 1px 2px rgba(60, 64, 67, 0.3), 0px 1px 3px 1px rgba(60, 64, 67, 0.15);\n",
              "      fill: #174EA6;\n",
              "    }\n",
              "\n",
              "    [theme=dark] .colab-df-convert {\n",
              "      background-color: #3B4455;\n",
              "      fill: #D2E3FC;\n",
              "    }\n",
              "\n",
              "    [theme=dark] .colab-df-convert:hover {\n",
              "      background-color: #434B5C;\n",
              "      box-shadow: 0px 1px 3px 1px rgba(0, 0, 0, 0.15);\n",
              "      filter: drop-shadow(0px 1px 2px rgba(0, 0, 0, 0.3));\n",
              "      fill: #FFFFFF;\n",
              "    }\n",
              "  </style>\n",
              "\n",
              "      <script>\n",
              "        const buttonEl =\n",
              "          document.querySelector('#df-6b1e266e-05ce-4c97-9a4b-a472837cc580 button.colab-df-convert');\n",
              "        buttonEl.style.display =\n",
              "          google.colab.kernel.accessAllowed ? 'block' : 'none';\n",
              "\n",
              "        async function convertToInteractive(key) {\n",
              "          const element = document.querySelector('#df-6b1e266e-05ce-4c97-9a4b-a472837cc580');\n",
              "          const dataTable =\n",
              "            await google.colab.kernel.invokeFunction('convertToInteractive',\n",
              "                                                     [key], {});\n",
              "          if (!dataTable) return;\n",
              "\n",
              "          const docLinkHtml = 'Like what you see? Visit the ' +\n",
              "            '<a target=\"_blank\" href=https://colab.research.google.com/notebooks/data_table.ipynb>data table notebook</a>'\n",
              "            + ' to learn more about interactive tables.';\n",
              "          element.innerHTML = '';\n",
              "          dataTable['output_type'] = 'display_data';\n",
              "          await google.colab.output.renderOutput(dataTable, element);\n",
              "          const docLink = document.createElement('div');\n",
              "          docLink.innerHTML = docLinkHtml;\n",
              "          element.appendChild(docLink);\n",
              "        }\n",
              "      </script>\n",
              "    </div>\n",
              "  </div>\n",
              "  "
            ]
          },
          "metadata": {},
          "execution_count": 10
        }
      ]
    },
    {
      "cell_type": "markdown",
      "source": [
        "**Exploratory Data Analysis**"
      ],
      "metadata": {
        "id": "pf9mXQrLjVCo"
      }
    },
    {
      "cell_type": "code",
      "source": [
        "df['experiment'].value_counts()/len(df)*100"
      ],
      "metadata": {
        "colab": {
          "base_uri": "https://localhost:8080/"
        },
        "id": "K4I-0m4gjXg6",
        "outputId": "37b79b30-2721-45fa-9b4a-a1c6445691bb"
      },
      "execution_count": null,
      "outputs": [
        {
          "output_type": "execute_result",
          "data": {
            "text/plain": [
              "control    50.402377\n",
              "exposed    49.597623\n",
              "Name: experiment, dtype: float64"
            ]
          },
          "metadata": {},
          "execution_count": 11
        }
      ]
    },
    {
      "cell_type": "markdown",
      "source": [
        "There are more people in the control group than the exposed one. However, the gap is not that huge"
      ],
      "metadata": {
        "id": "29VoFDeljas4"
      }
    },
    {
      "cell_type": "code",
      "source": [
        "df_control_subset=df[df['experiment']=='control']\n",
        "df_exposed_subset=df[df['experiment']=='exposed']"
      ],
      "metadata": {
        "id": "lsjRN2tQjbGj"
      },
      "execution_count": null,
      "outputs": []
    },
    {
      "cell_type": "code",
      "source": [
        "df_control_subset[['device_make', 'browser']].describe().transpose()"
      ],
      "metadata": {
        "id": "F3xmAQi0r05X"
      },
      "execution_count": null,
      "outputs": []
    },
    {
      "cell_type": "markdown",
      "source": [
        "In control group the most used device by user is generic smartphone, while the most used browser is chrome mobile"
      ],
      "metadata": {
        "id": "eP0oO0IXr32l"
      }
    },
    {
      "cell_type": "code",
      "source": [
        "df_exposed_subset[['device_make', 'browser']].describe().transpose()"
      ],
      "metadata": {
        "id": "goJPzNtlr5lh"
      },
      "execution_count": null,
      "outputs": []
    },
    {
      "cell_type": "markdown",
      "source": [
        "The same case also happen to exposed group"
      ],
      "metadata": {
        "id": "qjtoEjbdr7Az"
      }
    },
    {
      "cell_type": "code",
      "source": [
        "df.groupby(by='experiment', as_index=False)[['yes', 'no']].sum()"
      ],
      "metadata": {
        "id": "mQj3Y_Rxr8vN"
      },
      "execution_count": null,
      "outputs": []
    },
    {
      "cell_type": "markdown",
      "source": [
        "There 264 people and 322 people who responded yes and no in the questionnaire as the control group. Also, there 308 people and 349 people who responded yes and no as the exposed group. The rest is people who are not respond to the questionnaire"
      ],
      "metadata": {
        "id": "wFtg3PVsr-UZ"
      }
    },
    {
      "cell_type": "code",
      "source": [
        "len(df[(df['yes']==0) & df['no']==0])"
      ],
      "metadata": {
        "id": "bfQ15xcRr_xZ"
      },
      "execution_count": null,
      "outputs": []
    },
    {
      "cell_type": "markdown",
      "source": [
        "To be exact there's 7406 people who didn't respond the questionnaire in both experiment group"
      ],
      "metadata": {
        "id": "EhMyqm7isBdJ"
      }
    },
    {
      "cell_type": "markdown",
      "source": [
        "**Exploratory Data Analysis : Identifying Trends**"
      ],
      "metadata": {
        "id": "_nvQScZAsEB1"
      }
    },
    {
      "cell_type": "code",
      "source": [
        "# break out the value of yes column by time and browser used\n",
        "by_browser=pd.pivot_table(df,\n",
        "                               values=['yes'], \n",
        "                               index=['date'],\n",
        "                               columns=['browser'],\n",
        "                               aggfunc='sum',\n",
        "                               fill_value=0)\n",
        "by_browser=by_browser.reset_index()\n",
        "by_browser"
      ],
      "metadata": {
        "id": "cUXfAJ32sDE3"
      },
      "execution_count": null,
      "outputs": []
    },
    {
      "cell_type": "code",
      "source": [
        "by_browser.plot(x='date', y='yes', figsize=(8,8))\n",
        "plt.legend(loc=1)\n",
        "plt.title('Respondent Who Said Yes : in Date')\n",
        "plt.show()"
      ],
      "metadata": {
        "id": "M-z0_7JisMLt"
      },
      "execution_count": null,
      "outputs": []
    },
    {
      "cell_type": "markdown",
      "source": [
        "As known before, respondent who answer yes use chrome mobile the most. The peak of using happened at 8 July 2020"
      ],
      "metadata": {
        "id": "z32769XJsZA1"
      }
    },
    {
      "cell_type": "code",
      "source": [
        "# break out the value of yes column by hour and browser used\n",
        "by_browser1=pd.pivot_table(df,\n",
        "                               values=['yes'], \n",
        "                               index=['hour'],\n",
        "                               columns=['browser'],\n",
        "                               aggfunc='sum',\n",
        "                               fill_value=0)\n",
        "by_browser1=by_browser1.reset_index()\n",
        "by_browser1"
      ],
      "metadata": {
        "id": "1besy5aBsasO"
      },
      "execution_count": null,
      "outputs": []
    },
    {
      "cell_type": "code",
      "source": [
        "by_browser1.plot(x='hour', y='yes', figsize=(8,8))\n",
        "plt.legend(loc=1)\n",
        "plt.title('Respondent Who Said Yes : in Hours')\n",
        "plt.show()"
      ],
      "metadata": {
        "id": "Z2V7IM2rscSB"
      },
      "execution_count": null,
      "outputs": []
    },
    {
      "cell_type": "markdown",
      "source": [
        "Some browsers mostly used at 15 o'clock by respondent who answer yes"
      ],
      "metadata": {
        "id": "4ONsIlSysd81"
      }
    },
    {
      "cell_type": "code",
      "source": [
        "# break out the value of no column by date and browser used\n",
        "by_browserno=pd.pivot_table(df,\n",
        "                               values=['no'], \n",
        "                               index=['date'],\n",
        "                               columns=['browser'],\n",
        "                               aggfunc='sum',\n",
        "                               fill_value=0)\n",
        "by_browserno=by_browserno.reset_index()\n",
        "by_browserno"
      ],
      "metadata": {
        "id": "84VoFPnRsfjp"
      },
      "execution_count": null,
      "outputs": []
    },
    {
      "cell_type": "code",
      "source": [
        "by_browserno.plot(x='date', y='no', figsize=(8,8))\n",
        "plt.legend(loc=1)\n",
        "plt.title('Respondent Who Said No : in Date')\n",
        "plt.show()"
      ],
      "metadata": {
        "id": "3cpo4QymsiRF"
      },
      "execution_count": null,
      "outputs": []
    },
    {
      "cell_type": "markdown",
      "source": [
        "While respondent who said no mostly use chrome mobile at 9 July 2020"
      ],
      "metadata": {
        "id": "1G-UxtLpskbx"
      }
    },
    {
      "cell_type": "code",
      "source": [
        "# break out the value of no column by hour and browser used\n",
        "by_browserno1=pd.pivot_table(df,\n",
        "                               values=['no'], \n",
        "                               index=['hour'],\n",
        "                               columns=['browser'],\n",
        "                               aggfunc='sum',\n",
        "                               fill_value=0)\n",
        "by_browserno1=by_browserno1.reset_index()\n",
        "by_browserno1"
      ],
      "metadata": {
        "id": "b0o99V2LsltT"
      },
      "execution_count": null,
      "outputs": []
    },
    {
      "cell_type": "code",
      "source": [
        "by_browserno1.plot(x='hour', y='no', figsize=(8,8))\n",
        "plt.legend(loc=1)\n",
        "plt.title('Respondent Who Said No : in Hours')\n",
        "plt.show()"
      ],
      "metadata": {
        "id": "q7jC5QgQsnSb"
      },
      "execution_count": null,
      "outputs": []
    },
    {
      "cell_type": "markdown",
      "source": [
        "Just like respondent who said yes, some browsers mostly used at 15 o'clock"
      ],
      "metadata": {
        "id": "oNoeN5A-swsP"
      }
    },
    {
      "cell_type": "code",
      "source": [
        "# break out the value of yes column by time and device used\n",
        "by_device=pd.pivot_table(df,\n",
        "                        values=['yes'], \n",
        "                        index=['date'],\n",
        "                        columns=['device_make'],\n",
        "                        aggfunc='sum',\n",
        "                        fill_value=0)\n",
        "by_device=by_device.reset_index()\n",
        "by_device"
      ],
      "metadata": {
        "id": "cuZSFq_-szlS"
      },
      "execution_count": null,
      "outputs": []
    },
    {
      "cell_type": "code",
      "source": [
        "by_device.plot(x='date', y='yes', figsize=(8,8))\n",
        "plt.legend(loc=1)\n",
        "plt.title('Respondent Who Said Yes : in Date')\n",
        "plt.show()"
      ],
      "metadata": {
        "id": "vvzSDQpYs1_p"
      },
      "execution_count": null,
      "outputs": []
    },
    {
      "cell_type": "markdown",
      "source": [
        "There's huge a gap of amount between people who use generic smartphone and other devices. But most of the user responded yes in the questionnaire in 8 July 2020"
      ],
      "metadata": {
        "id": "_PF086cfs5Js"
      }
    },
    {
      "cell_type": "code",
      "source": [
        "# break out the value of yes column by hour and device used\n",
        "by_device1=pd.pivot_table(df,\n",
        "                               values=['yes'], \n",
        "                               index=['hour'],\n",
        "                               columns=['device_make'],\n",
        "                               aggfunc='sum',\n",
        "                               fill_value=0)\n",
        "by_device1=by_device1.reset_index()\n",
        "by_device1"
      ],
      "metadata": {
        "id": "cVYkHK1Ks61p"
      },
      "execution_count": null,
      "outputs": []
    },
    {
      "cell_type": "code",
      "source": [
        "by_device1.plot(x='hour', y='yes', figsize=(8,8))\n",
        "plt.legend(loc=1)\n",
        "plt.title('Respondent Who Said Yes : in Date')\n",
        "plt.show()"
      ],
      "metadata": {
        "id": "LQ40_04ss8cP"
      },
      "execution_count": null,
      "outputs": []
    },
    {
      "cell_type": "markdown",
      "source": [
        "There are some peaks in terms of hours for people who responded yes in the questionnaire for different devices. But mostly it happened at 15 o'clock"
      ],
      "metadata": {
        "id": "LJVMyw6As-cu"
      }
    },
    {
      "cell_type": "code",
      "source": [
        "# break out the value of no column by date and device used\n",
        "by_deviceno=pd.pivot_table(df,\n",
        "                               values=['no'], \n",
        "                               index=['date'],\n",
        "                               columns=['device_make'],\n",
        "                               aggfunc='sum',\n",
        "                               fill_value=0)\n",
        "by_deviceno=by_deviceno.reset_index()\n",
        "by_deviceno"
      ],
      "metadata": {
        "id": "UoLatmlIs_uE"
      },
      "execution_count": null,
      "outputs": []
    },
    {
      "cell_type": "code",
      "source": [
        "by_deviceno.plot(x='date', y='no', figsize=(8,8))\n",
        "plt.legend(loc=1)\n",
        "plt.title('Respondent Who Said No : in Date')\n",
        "plt.show()"
      ],
      "metadata": {
        "id": "a3vBOfU9tB52"
      },
      "execution_count": null,
      "outputs": []
    },
    {
      "cell_type": "markdown",
      "source": [
        "Respondent who said no by their mostly choosen device which is generic smartphone, happened at 9 July 2020"
      ],
      "metadata": {
        "id": "wmDamOb1tEMX"
      }
    },
    {
      "cell_type": "code",
      "source": [
        "# break out the value of no column by hour and device used\n",
        "by_deviceno1=pd.pivot_table(df,\n",
        "                               values=['no'], \n",
        "                               index=['hour'],\n",
        "                               columns=['device_make'],\n",
        "                               aggfunc='sum',\n",
        "                               fill_value=0)\n",
        "by_deviceno1=by_deviceno1.reset_index()\n",
        "by_deviceno1"
      ],
      "metadata": {
        "id": "06jVD5NYtFrX"
      },
      "execution_count": null,
      "outputs": []
    },
    {
      "cell_type": "code",
      "source": [
        "by_deviceno1.plot(x='hour', y='no', figsize=(8,8))\n",
        "plt.legend(loc=1)\n",
        "plt.title('Respondent Who Said No : in Hour')\n",
        "plt.show()"
      ],
      "metadata": {
        "id": "LirZGF2mtHRC"
      },
      "execution_count": null,
      "outputs": []
    },
    {
      "cell_type": "markdown",
      "source": [
        "Respondent who said no and using generic smartphone, responded mostly at 15 o'clock"
      ],
      "metadata": {
        "id": "XMXlxsNdtJdE"
      }
    },
    {
      "cell_type": "markdown",
      "source": [
        "# **A/B Testing**\n",
        "\n",
        "**Which group experiment has a higher respond rate?**"
      ],
      "metadata": {
        "id": "mQDoSGDBtKyi"
      }
    },
    {
      "cell_type": "markdown",
      "source": [
        "Hypothesis:\n",
        "H0 : control and exposed has same or similar respond rate\n",
        "H1 : exposed will have higher respond rate than control ones\n",
        "\n",
        "Hypothesis created to ensure the interpretation of the result is correct"
      ],
      "metadata": {
        "id": "rigVK8optPQU"
      }
    },
    {
      "cell_type": "markdown",
      "source": [
        "**Choosing Sample Size**"
      ],
      "metadata": {
        "id": "EPVKCC12tRBU"
      }
    },
    {
      "cell_type": "code",
      "source": [
        "control_respondents=df[df['experiment']=='control']\n",
        "conversion_control=control_respondents['yes'].sum()+control_respondents['no'].sum()\n",
        "total_respondents_control=len(control_respondents)\n",
        "\n",
        "exposed_respondents=df[df['experiment']=='exposed']\n",
        "conversion_exposed=exposed_respondents['yes'].sum()+exposed_respondents['no'].sum()\n",
        "total_respondents_exposed=len(exposed_respondents)\n",
        "\n",
        "#count number of respondents who converted in each group\n",
        "print('Number of control respondents who have been shown a dummy ad: ', conversion_control)\n",
        "print('Percentage of control group respond rate: ', round((conversion_control / total_respondents_control) * 100, 2), '%')\n",
        "\n",
        "print()\n",
        "\n",
        "print('Number of exposed respondents who have been shown a creative, an online interactive ad, with the SmartAd brand: ', conversion_exposed)\n",
        "print('Percentage of exposed group respond rate: ', round((conversion_exposed / total_respondents_exposed) * 100, 2), '%')"
      ],
      "metadata": {
        "id": "grWmjQSttUBU"
      },
      "execution_count": null,
      "outputs": []
    },
    {
      "cell_type": "markdown",
      "source": [
        "Number of control respondents who have been shown a dummy ad:  586\n",
        "Percentage of control group respond rate:  14.39 %\n",
        "\n",
        "Number of exposed respondents who have been shown a creative, an online interactive ad, with the SmartAd brand:  657\n",
        "Percentage of exposed group respond rate:  16.4 %"
      ],
      "metadata": {
        "id": "HteX7T97tXWk"
      }
    },
    {
      "cell_type": "code",
      "source": [
        "baseline_rate=round(conversion_control/total_respondents_control,2)\n",
        "baseline_rate"
      ],
      "metadata": {
        "id": "DkH258jLtY6w"
      },
      "execution_count": null,
      "outputs": []
    },
    {
      "cell_type": "markdown",
      "source": [
        "Let just say the marketing team want increasement of respond rate from **14%** to **16%**\n",
        "\n",
        "The sample size we need is estimated through something called **Power analysis**, and it depends on a few factors:\n",
        "\n",
        "Power of the test/sensitivity (1-b) - This represents the probability of finding a statistical difference between the groups in our test when a difference is actually present. This is usually set at 0.8 as a convention\n",
        "Alpha value - The critical value we set to 0.05\n",
        "Effect size - How big of a difference we expect there to be between the conversion rates"
      ],
      "metadata": {
        "id": "OZf2n2Wttalq"
      }
    },
    {
      "cell_type": "code",
      "source": [
        "effect_size = sms.proportion_effectsize(0.14, 0.16)\n",
        "sample_size=sms.NormalIndPower().solve_power(\n",
        "    effect_size, \n",
        "    power=0.8, # user defined\n",
        "    alpha=0.05, # user defined, for a 95% confidence interval \n",
        "    ratio=1\n",
        "    )\n",
        "\n",
        "sample_size=ceil(sample_size)\n",
        "\n",
        "print('Required sample size: ', round(sample_size), ' per group')"
      ],
      "metadata": {
        "id": "HJn9jHButr3W"
      },
      "execution_count": null,
      "outputs": []
    },
    {
      "cell_type": "markdown",
      "source": [
        "Required sample size:  4999  per group\n",
        "We need at least 4999 respondents for each group"
      ],
      "metadata": {
        "id": "O91i2Hq3ttks"
      }
    },
    {
      "cell_type": "markdown",
      "source": [
        "**Sampling**"
      ],
      "metadata": {
        "id": "lE7sxoJTtvnY"
      }
    },
    {
      "cell_type": "code",
      "source": [
        "len(df)"
      ],
      "metadata": {
        "id": "Ye0xzkP_txq3"
      },
      "execution_count": null,
      "outputs": []
    },
    {
      "cell_type": "code",
      "source": [
        "control_group = df[df['experiment'] == 'control']\n",
        "exposed_group = df[df['experiment'] == 'exposed']"
      ],
      "metadata": {
        "id": "GC3oFcoFtzEO"
      },
      "execution_count": null,
      "outputs": []
    },
    {
      "cell_type": "code",
      "source": [
        "print('length of control group:' , len(control_group))\n",
        "print('length of exposed group' , len(exposed_group))"
      ],
      "metadata": {
        "id": "zaZRtpa2t0sQ"
      },
      "execution_count": null,
      "outputs": []
    },
    {
      "cell_type": "markdown",
      "source": [
        "length of control group: 4071\n",
        "length of exposed group 4006\n",
        "Since the length of the data for both group is less than required sample, then sampling is not undertaken. In fact, the amount of data could be added to increase the analysis robustness"
      ],
      "metadata": {
        "id": "CBSyE_3ot2qe"
      }
    },
    {
      "cell_type": "markdown",
      "source": [
        "**Testing hypothesis**\n",
        "\n",
        "Since the dataset is quite small t-test independent is undertaken to testing the hypotesis"
      ],
      "metadata": {
        "id": "UMMngATft4eI"
      }
    },
    {
      "cell_type": "code",
      "source": [
        "df['respond_rate']=(df['yes']+df['no'])/len(df['auction_id'])\n"
      ],
      "metadata": {
        "id": "jF-IGThKt9gk"
      },
      "execution_count": null,
      "outputs": []
    },
    {
      "cell_type": "code",
      "source": [
        "from scipy.stats import ttest_ind\n",
        "result = list(ttest_ind(\n",
        "    df[df['experiment'] == 'control']['respond_rate'], \n",
        "     df[df['experiment'] == 'exposed']['respond_rate'],\n",
        "    equal_var = False\n",
        "))"
      ],
      "metadata": {
        "id": "jl2zII1buHIY"
      },
      "execution_count": null,
      "outputs": []
    },
    {
      "cell_type": "code",
      "source": [
        "result"
      ],
      "metadata": {
        "id": "07XA86fpuHhf"
      },
      "execution_count": null,
      "outputs": []
    },
    {
      "cell_type": "code",
      "source": [
        "print('T-Statistic:', result[0])\n",
        "print('P-Value:', result[1])"
      ],
      "metadata": {
        "id": "ust0nzR9uKVR"
      },
      "execution_count": null,
      "outputs": []
    },
    {
      "cell_type": "code",
      "source": [
        "result[1]<0.05"
      ],
      "metadata": {
        "id": "o7tHLNCCuLmN"
      },
      "execution_count": null,
      "outputs": []
    },
    {
      "cell_type": "markdown",
      "source": [
        "# **Summary**\n",
        "The P-value is lower than our significant level 0.05, it means we have enough evidence to reject the Null Hypothesis. So, respondents who shown the creative, an online interactive ad, with the SmartAd brand or respondents in the exposed group will have higher respond rate than the control ones or people who shown the dummy ad"
      ],
      "metadata": {
        "id": "RTfrBXqauNSw"
      }
    }
  ]
}